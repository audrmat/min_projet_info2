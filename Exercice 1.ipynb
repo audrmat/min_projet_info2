{
 "cells": [
  {
   "cell_type": "code",
   "execution_count": 58,
   "id": "ff7a9b5f",
   "metadata": {},
   "outputs": [
    {
     "name": "stdout",
     "output_type": "stream",
     "text": [
      "      TIME_PERIOD    GEO   ERWP   ERWL POP1564   UNIT_MEA     OBS_VALUE  \\\n",
      "0            2010  CH040      1  Total   Total       pers  7.909880e+05   \n",
      "1            2010  CH040  Total  Total   Total       pers  1.153705e+06   \n",
      "2            2010  CH021      1  Total   Total       pers  5.451210e+05   \n",
      "3            2010  CH021  Total  Total   Total       pers  8.243360e+05   \n",
      "4            2010  CH061      1  Total   Total       pers  2.133700e+05   \n",
      "...           ...    ...    ...    ...     ...        ...           ...   \n",
      "4153         2020  CH025  Total      1       1  pers in %  7.464130e+00   \n",
      "4154         2020  CH025  Total  Total       1  pers in %  1.000000e+02   \n",
      "4155         2020     CH  Total      0       1  pers in %  9.395563e+01   \n",
      "4156         2020     CH  Total      1       1  pers in %  6.044370e+00   \n",
      "4157         2020     CH  Total  Total       1  pers in %  1.000000e+02   \n",
      "\n",
      "      OBS_CONFIDENCE OBS_STATUS  \n",
      "0             0.6410          A  \n",
      "1             0.1205          A  \n",
      "2             0.8064          A  \n",
      "3             0.1226          A  \n",
      "4             0.9513          A  \n",
      "...              ...        ...  \n",
      "4153          1.6684          A  \n",
      "4154          0.0000          A  \n",
      "4155          0.2954          A  \n",
      "4156          0.1164          A  \n",
      "4157          0.2932          A  \n",
      "\n",
      "[4158 rows x 9 columns]\n",
      "Il y a des données pour l'année 2010\n",
      "Il y a des données pour l'année 2011\n",
      "Il y a des données pour l'année 2012\n",
      "Il y a des données pour l'année 2013\n",
      "Il y a des données pour l'année 2014\n",
      "Il y a des données pour l'année 2015\n",
      "Il y a des données pour l'année 2016\n",
      "Il y a des données pour l'année 2017\n",
      "Il y a des données pour l'année 2018\n",
      "Il y a des données pour l'année 2019\n",
      "Il y a des données pour l'année 2020\n"
     ]
    }
   ],
   "source": [
    "import pandas as pd\n",
    "#importation du fichier csv pour convertir en dataframe et traiter les données\n",
    "df_chomage = pd.read_csv(\"https://www.bfs.admin.ch/bfsstatic/dam/assets/20964153/master\", sep = ';')\n",
    "#verfier s'il y a des données pour toutes les années (2010 à 2020)\n",
    "print(df_chomage)\n",
    "for i in range(2010, 2021):\n",
    "    if any(df_chomage.TIME_PERIOD == i):\n",
    "        print(\"Il y a des données pour l'année\", i)\n",
    "    else:\n",
    "        print(\"Attention ! Les données de l'année\", i, \"ne sont pas complètes.\")\n"
   ]
  },
  {
   "cell_type": "code",
   "execution_count": null,
   "id": "4a5b7510",
   "metadata": {},
   "outputs": [],
   "source": []
  },
  {
   "cell_type": "code",
   "execution_count": null,
   "id": "abe18a66",
   "metadata": {},
   "outputs": [],
   "source": []
  }
 ],
 "metadata": {
  "celltoolbar": "Share Cell",
  "kernelspec": {
   "display_name": "Python 3 (ipykernel)",
   "language": "python",
   "name": "python3"
  },
  "language_info": {
   "codemirror_mode": {
    "name": "ipython",
    "version": 3
   },
   "file_extension": ".py",
   "mimetype": "text/x-python",
   "name": "python",
   "nbconvert_exporter": "python",
   "pygments_lexer": "ipython3",
   "version": "3.9.10"
  }
 },
 "nbformat": 4,
 "nbformat_minor": 5
}
